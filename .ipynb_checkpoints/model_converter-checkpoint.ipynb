{
 "cells": [
  {
   "cell_type": "code",
   "execution_count": 6,
   "id": "73e0f163-8ac2-468b-97db-4f2902568bd3",
   "metadata": {},
   "outputs": [
    {
     "name": "stdout",
     "output_type": "stream",
     "text": [
      "WARNING:tensorflow:Compiled the loaded model, but the compiled metrics have yet to be built. `model.compile_metrics` will be empty until you train or evaluate the model.\n",
      "✅ Model saved in valid .keras format\n"
     ]
    }
   ],
   "source": [
    "import tensorflow as tf\n",
    "\n",
    "old_model = tf.keras.models.load_model(\"weather_model_global.h5\", compile=False)\n",
    "old_model.save(\"weather_model_global.keras\", save_format=\"keras\")\n",
    "\n",
    "print(\"✅ Model saved in valid .keras format\")\n"
   ]
  },
  {
   "cell_type": "code",
   "execution_count": null,
   "id": "4aded0cc-37c1-4ae7-b5ff-71c2e678b83b",
   "metadata": {},
   "outputs": [],
   "source": []
  }
 ],
 "metadata": {
  "kernelspec": {
   "display_name": "Python [conda env:musicgen]",
   "language": "python",
   "name": "conda-env-musicgen-py"
  },
  "language_info": {
   "codemirror_mode": {
    "name": "ipython",
    "version": 3
   },
   "file_extension": ".py",
   "mimetype": "text/x-python",
   "name": "python",
   "nbconvert_exporter": "python",
   "pygments_lexer": "ipython3",
   "version": "3.9.23"
  }
 },
 "nbformat": 4,
 "nbformat_minor": 5
}
